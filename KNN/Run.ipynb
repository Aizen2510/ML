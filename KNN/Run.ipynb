{
 "cells": [
  {
   "cell_type": "code",
   "execution_count": 1,
   "id": "c700fd66",
   "metadata": {},
   "outputs": [],
   "source": [
    "import pandas as pd\n",
    "import numpy as np"
   ]
  },
  {
   "cell_type": "code",
   "execution_count": 2,
   "id": "d8ebfcd0",
   "metadata": {},
   "outputs": [
    {
     "data": {
      "text/html": [
       "<div>\n",
       "<style scoped>\n",
       "    .dataframe tbody tr th:only-of-type {\n",
       "        vertical-align: middle;\n",
       "    }\n",
       "\n",
       "    .dataframe tbody tr th {\n",
       "        vertical-align: top;\n",
       "    }\n",
       "\n",
       "    .dataframe thead th {\n",
       "        text-align: right;\n",
       "    }\n",
       "</style>\n",
       "<table border=\"1\" class=\"dataframe\">\n",
       "  <thead>\n",
       "    <tr style=\"text-align: right;\">\n",
       "      <th></th>\n",
       "      <th>Unnamed: 0</th>\n",
       "      <th>ID</th>\n",
       "      <th>Mass (kg)</th>\n",
       "      <th>Radius (km)</th>\n",
       "      <th>Distance to Star (AU)</th>\n",
       "      <th>Orbits a Star?</th>\n",
       "    </tr>\n",
       "  </thead>\n",
       "  <tbody>\n",
       "    <tr>\n",
       "      <th>0</th>\n",
       "      <td>0</td>\n",
       "      <td>1</td>\n",
       "      <td>5.97×10^24</td>\n",
       "      <td>6371</td>\n",
       "      <td>1.0</td>\n",
       "      <td>Yes</td>\n",
       "    </tr>\n",
       "    <tr>\n",
       "      <th>1</th>\n",
       "      <td>1</td>\n",
       "      <td>2</td>\n",
       "      <td>1.90×10^27</td>\n",
       "      <td>69911</td>\n",
       "      <td>5.2</td>\n",
       "      <td>Yes</td>\n",
       "    </tr>\n",
       "    <tr>\n",
       "      <th>2</th>\n",
       "      <td>2</td>\n",
       "      <td>3</td>\n",
       "      <td>1.00×10^22</td>\n",
       "      <td>1188</td>\n",
       "      <td>39.5</td>\n",
       "      <td>Yes</td>\n",
       "    </tr>\n",
       "    <tr>\n",
       "      <th>3</th>\n",
       "      <td>3</td>\n",
       "      <td>4</td>\n",
       "      <td>2.00×10^30</td>\n",
       "      <td>695700</td>\n",
       "      <td>-</td>\n",
       "      <td>No</td>\n",
       "    </tr>\n",
       "    <tr>\n",
       "      <th>4</th>\n",
       "      <td>4</td>\n",
       "      <td>5</td>\n",
       "      <td>3.00×10^23</td>\n",
       "      <td>2439</td>\n",
       "      <td>0.39</td>\n",
       "      <td>Yes</td>\n",
       "    </tr>\n",
       "    <tr>\n",
       "      <th>5</th>\n",
       "      <td>5</td>\n",
       "      <td>6</td>\n",
       "      <td>1.20×10^29</td>\n",
       "      <td>100000</td>\n",
       "      <td>-</td>\n",
       "      <td>No</td>\n",
       "    </tr>\n",
       "    <tr>\n",
       "      <th>6</th>\n",
       "      <td>6</td>\n",
       "      <td>7</td>\n",
       "      <td>5.00×10^21</td>\n",
       "      <td>400</td>\n",
       "      <td>2.4</td>\n",
       "      <td>Yes</td>\n",
       "    </tr>\n",
       "  </tbody>\n",
       "</table>\n",
       "</div>"
      ],
      "text/plain": [
       "   Unnamed: 0  ID   Mass (kg)  Radius (km) Distance to Star (AU)  \\\n",
       "0           0   1  5.97×10^24         6371                   1.0   \n",
       "1           1   2  1.90×10^27        69911                   5.2   \n",
       "2           2   3  1.00×10^22         1188                  39.5   \n",
       "3           3   4  2.00×10^30       695700                     -   \n",
       "4           4   5  3.00×10^23         2439                  0.39   \n",
       "5           5   6  1.20×10^29       100000                     -   \n",
       "6           6   7  5.00×10^21          400                   2.4   \n",
       "\n",
       "  Orbits a Star?  \n",
       "0            Yes  \n",
       "1            Yes  \n",
       "2            Yes  \n",
       "3             No  \n",
       "4            Yes  \n",
       "5             No  \n",
       "6            Yes  "
      ]
     },
     "execution_count": 2,
     "metadata": {},
     "output_type": "execute_result"
    }
   ],
   "source": [
    "df = pd.read_csv('data_train.csv')\n",
    "df "
   ]
  },
  {
   "cell_type": "code",
   "execution_count": 3,
   "id": "c6b83960",
   "metadata": {},
   "outputs": [],
   "source": [
    "df.drop(columns=['ID', 'Unnamed: 0'], axis=1, inplace=True)"
   ]
  },
  {
   "cell_type": "code",
   "execution_count": 4,
   "id": "0fe361be",
   "metadata": {},
   "outputs": [
    {
     "data": {
      "text/plain": [
       "array([['5.97×10^24', 6371, '1.0', 'Yes'],\n",
       "       ['1.90×10^27', 69911, '5.2', 'Yes'],\n",
       "       ['1.00×10^22', 1188, '39.5', 'Yes'],\n",
       "       ['2.00×10^30', 695700, '-', 'No'],\n",
       "       ['3.00×10^23', 2439, '0.39', 'Yes'],\n",
       "       ['1.20×10^29', 100000, '-', 'No'],\n",
       "       ['5.00×10^21', 400, '2.4', 'Yes']], dtype=object)"
      ]
     },
     "execution_count": 4,
     "metadata": {},
     "output_type": "execute_result"
    }
   ],
   "source": [
    "a = df.to_numpy() \n",
    "a"
   ]
  }
 ],
 "metadata": {
  "kernelspec": {
   "display_name": "Python 3",
   "language": "python",
   "name": "python3"
  },
  "language_info": {
   "codemirror_mode": {
    "name": "ipython",
    "version": 3
   },
   "file_extension": ".py",
   "mimetype": "text/x-python",
   "name": "python",
   "nbconvert_exporter": "python",
   "pygments_lexer": "ipython3",
   "version": "3.9.10"
  }
 },
 "nbformat": 4,
 "nbformat_minor": 5
}
