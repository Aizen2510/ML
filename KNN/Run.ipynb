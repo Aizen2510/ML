{
 "cells": [
  {
   "cell_type": "code",
   "execution_count": 1,
   "id": "c700fd66",
   "metadata": {},
   "outputs": [],
   "source": [
    "import pandas as pd\n",
    "import numpy as np"
   ]
  },
  {
   "cell_type": "code",
   "execution_count": 2,
   "id": "d8ebfcd0",
   "metadata": {},
   "outputs": [
    {
     "data": {
      "text/html": [
       "<div>\n",
       "<style scoped>\n",
       "    .dataframe tbody tr th:only-of-type {\n",
       "        vertical-align: middle;\n",
       "    }\n",
       "\n",
       "    .dataframe tbody tr th {\n",
       "        vertical-align: top;\n",
       "    }\n",
       "\n",
       "    .dataframe thead th {\n",
       "        text-align: right;\n",
       "    }\n",
       "</style>\n",
       "<table border=\"1\" class=\"dataframe\">\n",
       "  <thead>\n",
       "    <tr style=\"text-align: right;\">\n",
       "      <th></th>\n",
       "      <th>Unnamed: 0</th>\n",
       "      <th>ID</th>\n",
       "      <th>Mass (kg)</th>\n",
       "      <th>Radius (km)</th>\n",
       "      <th>Distance to Star (AU)</th>\n",
       "      <th>Orbits a Star?</th>\n",
       "    </tr>\n",
       "  </thead>\n",
       "  <tbody>\n",
       "    <tr>\n",
       "      <th>0</th>\n",
       "      <td>0</td>\n",
       "      <td>1</td>\n",
       "      <td>5.97*10^24</td>\n",
       "      <td>6371</td>\n",
       "      <td>1.00</td>\n",
       "      <td>Yes</td>\n",
       "    </tr>\n",
       "    <tr>\n",
       "      <th>1</th>\n",
       "      <td>1</td>\n",
       "      <td>2</td>\n",
       "      <td>1.90*10^27</td>\n",
       "      <td>69911</td>\n",
       "      <td>5.20</td>\n",
       "      <td>Yes</td>\n",
       "    </tr>\n",
       "    <tr>\n",
       "      <th>2</th>\n",
       "      <td>2</td>\n",
       "      <td>3</td>\n",
       "      <td>1.00*10^22</td>\n",
       "      <td>1188</td>\n",
       "      <td>39.50</td>\n",
       "      <td>Yes</td>\n",
       "    </tr>\n",
       "    <tr>\n",
       "      <th>3</th>\n",
       "      <td>3</td>\n",
       "      <td>4</td>\n",
       "      <td>2.00*10^30</td>\n",
       "      <td>695700</td>\n",
       "      <td>20.00</td>\n",
       "      <td>No</td>\n",
       "    </tr>\n",
       "    <tr>\n",
       "      <th>4</th>\n",
       "      <td>4</td>\n",
       "      <td>5</td>\n",
       "      <td>3.00*10^23</td>\n",
       "      <td>2439</td>\n",
       "      <td>0.39</td>\n",
       "      <td>Yes</td>\n",
       "    </tr>\n",
       "    <tr>\n",
       "      <th>5</th>\n",
       "      <td>5</td>\n",
       "      <td>6</td>\n",
       "      <td>1.20*10^29</td>\n",
       "      <td>100000</td>\n",
       "      <td>1.20</td>\n",
       "      <td>No</td>\n",
       "    </tr>\n",
       "    <tr>\n",
       "      <th>6</th>\n",
       "      <td>6</td>\n",
       "      <td>7</td>\n",
       "      <td>5.00*10^21</td>\n",
       "      <td>400</td>\n",
       "      <td>2.40</td>\n",
       "      <td>Yes</td>\n",
       "    </tr>\n",
       "  </tbody>\n",
       "</table>\n",
       "</div>"
      ],
      "text/plain": [
       "   Unnamed: 0  ID   Mass (kg)  Radius (km)  Distance to Star (AU)  \\\n",
       "0           0   1  5.97*10^24         6371                   1.00   \n",
       "1           1   2  1.90*10^27        69911                   5.20   \n",
       "2           2   3  1.00*10^22         1188                  39.50   \n",
       "3           3   4  2.00*10^30       695700                  20.00   \n",
       "4           4   5  3.00*10^23         2439                   0.39   \n",
       "5           5   6  1.20*10^29       100000                   1.20   \n",
       "6           6   7  5.00*10^21          400                   2.40   \n",
       "\n",
       "  Orbits a Star?  \n",
       "0            Yes  \n",
       "1            Yes  \n",
       "2            Yes  \n",
       "3             No  \n",
       "4            Yes  \n",
       "5             No  \n",
       "6            Yes  "
      ]
     },
     "execution_count": 2,
     "metadata": {},
     "output_type": "execute_result"
    }
   ],
   "source": [
    "df = pd.read_csv('data_train.csv')\n",
    "df"
   ]
  },
  {
   "cell_type": "code",
   "execution_count": 3,
   "id": "c6b83960",
   "metadata": {},
   "outputs": [],
   "source": [
    "df.drop(columns=['ID', 'Unnamed: 0'], axis=1, inplace=True)"
   ]
  },
  {
   "cell_type": "code",
   "execution_count": 4,
   "id": "0fe361be",
   "metadata": {},
   "outputs": [
    {
     "data": {
      "text/plain": [
       "array([['5.97*10^24', 6371, 1.0, 'Yes'],\n",
       "       ['1.90*10^27', 69911, 5.2, 'Yes'],\n",
       "       ['1.00*10^22', 1188, 39.5, 'Yes'],\n",
       "       ['2.00*10^30', 695700, 20.0, 'No'],\n",
       "       ['3.00*10^23', 2439, 0.39, 'Yes'],\n",
       "       ['1.20*10^29', 100000, 1.2, 'No'],\n",
       "       ['5.00*10^21', 400, 2.4, 'Yes']], dtype=object)"
      ]
     },
     "execution_count": 4,
     "metadata": {},
     "output_type": "execute_result"
    }
   ],
   "source": [
    "a = df.to_numpy() \n",
    "a"
   ]
  },
  {
   "cell_type": "code",
   "execution_count": 5,
   "id": "35d825e8",
   "metadata": {},
   "outputs": [
    {
     "data": {
      "text/plain": [
       "array([[5.9700e+24, 6.3710e+03, 1.0000e+00, 1.0000e+00],\n",
       "       [1.9000e+27, 6.9911e+04, 5.2000e+00, 1.0000e+00],\n",
       "       [1.0000e+22, 1.1880e+03, 3.9500e+01, 1.0000e+00],\n",
       "       [2.0000e+30, 6.9570e+05, 2.0000e+01, 0.0000e+00],\n",
       "       [3.0000e+23, 2.4390e+03, 3.9000e-01, 1.0000e+00],\n",
       "       [1.2000e+29, 1.0000e+05, 1.2000e+00, 0.0000e+00],\n",
       "       [5.0000e+21, 4.0000e+02, 2.4000e+00, 1.0000e+00]])"
      ]
     },
     "execution_count": 5,
     "metadata": {},
     "output_type": "execute_result"
    }
   ],
   "source": [
    "fix_data = np.array([float(s.replace('*10^', 'e')) for s in a[:,0]])\n",
    "binary_column = np.array([1.0 if s == 'Yes' else 0.0 for s in a[:,3]])\n",
    "final_data = np.column_stack([fix_data, a[:,1:3].astype(float), binary_column])\n",
    "final_data\n"
   ]
  },
  {
   "cell_type": "code",
   "execution_count": 6,
   "id": "161cdca7",
   "metadata": {},
   "outputs": [
    {
     "data": {
      "text/plain": [
       "array([[5.9700e+24, 1.9000e+27, 1.0000e+22, 2.0000e+30, 3.0000e+23,\n",
       "        1.2000e+29, 5.0000e+21],\n",
       "       [6.3710e+03, 6.9911e+04, 1.1880e+03, 6.9570e+05, 2.4390e+03,\n",
       "        1.0000e+05, 4.0000e+02],\n",
       "       [1.0000e+00, 5.2000e+00, 3.9500e+01, 2.0000e+01, 3.9000e-01,\n",
       "        1.2000e+00, 2.4000e+00],\n",
       "       [1.0000e+00, 1.0000e+00, 1.0000e+00, 0.0000e+00, 1.0000e+00,\n",
       "        0.0000e+00, 1.0000e+00]])"
      ]
     },
     "execution_count": 6,
     "metadata": {},
     "output_type": "execute_result"
    }
   ],
   "source": [
    "# chuyen vi de lay x \n",
    "rowX = final_data.T \n",
    "rowX "
   ]
  },
  {
   "cell_type": "code",
   "execution_count": 21,
   "id": "2d3a3e0d",
   "metadata": {},
   "outputs": [],
   "source": [
    "x_train = [row for row in rowX[0]]\n",
    "y_train = [col for col in rowX[1]]\n",
    "z_train = [hgt for hgt in rowX[2]]"
   ]
  },
  {
   "cell_type": "code",
   "execution_count": 22,
   "id": "7925ad70",
   "metadata": {},
   "outputs": [],
   "source": [
    "def fun_Knn(x,x1, y,y1, z,z1):\n",
    "    return ((x-x1)**2 + (y-y1)**2 + (z-z1)**2)**0.5"
   ]
  },
  {
   "cell_type": "code",
   "execution_count": null,
   "id": "9ccde562",
   "metadata": {},
   "outputs": [],
   "source": [
    "def Knn_predict(x_train, y_train, z_train,test_point, k=3):\n",
    "    dis = []\n",
    "    for i in range(len(x_train)):\n",
    "        dict = fun_Knn(x_train[i], y_train[i], z_train[i],test_point[0], test_point[1], test_point[2])\n",
    "        dis.append((dict, final_data[i, 3]))  # Lấy nhãn từ cột thứ 4\n",
    "    \n",
    "    # sort > \n",
    "    dis.sort(key=lambda x : x[0])\n",
    "    k_nei = [label for (_, label) in dis[:k]]\n",
    "    most_common = max(set(k_nei), key=k_nei.count)\n",
    "    return most_common\n"
   ]
  },
  {
   "cell_type": "code",
   "execution_count": 31,
   "id": "e8bcd31d",
   "metadata": {},
   "outputs": [
    {
     "name": "stdout",
     "output_type": "stream",
     "text": [
      "Dự đoán: 1.0\n"
     ]
    }
   ],
   "source": [
    "test_point = [2.0000e+30,695700,20.00]\n",
    "predicted_label = Knn_predict(x_train, y_train,z_train, test_point, k=3)\n",
    "print(\"Dự đoán:\", predicted_label)"
   ]
  },
  {
   "cell_type": "code",
   "execution_count": 30,
   "id": "5fae68e3",
   "metadata": {},
   "outputs": [
    {
     "name": "stdout",
     "output_type": "stream",
     "text": [
      "Khoảng cách: 0.0 | Nhãn: 0.0\n",
      "Khoảng cách: 1.88e+30 | Nhãn: 0.0\n",
      "Khoảng cách: 1.9981e+30 | Nhãn: 1.0\n"
     ]
    }
   ],
   "source": [
    "k = 3  # Number of neighbors\n",
    "dis = []\n",
    "for i in range(len(x_train)):\n",
    "    distance = fun_Knn(x_train[i], test_point[0], y_train[i], test_point[1], z_train[i], test_point[2])\n",
    "    dis.append((distance, final_data[i, 3]))  # Lấy nhãn từ cột thứ 4\n",
    "\n",
    "# Sort distances\n",
    "dis.sort(key=lambda x: x[0])\n",
    "k_nei = dis[:k]\n",
    "\n",
    "for item in k_nei:\n",
    "    print(\"Khoảng cách:\", item[0], \"| Nhãn:\", item[1])\n"
   ]
  }
 ],
 "metadata": {
  "kernelspec": {
   "display_name": "Python 3",
   "language": "python",
   "name": "python3"
  },
  "language_info": {
   "codemirror_mode": {
    "name": "ipython",
    "version": 3
   },
   "file_extension": ".py",
   "mimetype": "text/x-python",
   "name": "python",
   "nbconvert_exporter": "python",
   "pygments_lexer": "ipython3",
   "version": "3.9.10"
  }
 },
 "nbformat": 4,
 "nbformat_minor": 5
}
